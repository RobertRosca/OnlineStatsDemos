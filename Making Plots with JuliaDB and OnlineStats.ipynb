{
 "cells": [
  {
   "cell_type": "markdown",
   "metadata": {},
   "source": [
    "# Making Plots with JuliaDB and OnlineStats\n",
    "\n",
    "Plotting in JuliaDB is achieved through [StatPlots.jl](https://github.com/JuliaPlots/StatPlots.jl) and recipes in [OnlineStats](https://github.com/joshday/OnlineStats.jl)."
   ]
  },
  {
   "cell_type": "code",
   "execution_count": 1,
   "metadata": {},
   "outputs": [
    {
     "data": {
      "text/plain": [
       "Plots.GRBackend()"
      ]
     },
     "execution_count": 1,
     "metadata": {},
     "output_type": "execute_result"
    }
   ],
   "source": [
    "addprocs()\n",
    "using JuliaDB, OnlineStats, StatPlots\n",
    "gr()"
   ]
  },
  {
   "cell_type": "markdown",
   "metadata": {},
   "source": [
    "## Plotting with [StatPlots.jl](https://github.com/JuliaPlots/StatPlots.jl)\n",
    "\n",
    "All the power and flexibility of [Plots](https://github.com/JuliaPlots/Plots.jl) is made available to JuliaDB with StatPlots and the `@df` macro."
   ]
  },
  {
   "cell_type": "markdown",
   "metadata": {},
   "source": [
    "<div class=\"alert alert-warning\">\n",
    "<strong>Warning!</strong>  StatPlots will not work on distributed table/ndsparse objects.\n",
    "</div>"
   ]
  },
  {
   "cell_type": "code",
   "execution_count": null,
   "metadata": {},
   "outputs": [],
   "source": [
    "t = table(@NT(x = randn(100), y = randn(100)))\n",
    "\n",
    "@df t scatter(:x, :y)"
   ]
  },
  {
   "cell_type": "markdown",
   "metadata": {},
   "source": [
    "## Plotting Big Data with `partitionplot`\n",
    "\n",
    "\n",
    "Suppose we have a billion observations.  Visualizing a large amount of data is hard on \n",
    "\n",
    "1. Your GPU\n",
    "2. Your Brain\n",
    "\n",
    "The idea behind `partitionplot` is this:  Instead of plotting individual observations, observations on the x-axis are grouped together and a summary of the data is displayed on the y-axis.  We can then make an easier-to-create/easier-to-comprehend plot.\n",
    "\n",
    "```\n",
    "partitionplot(table, [x,] y; stat, nparts)\n",
    "```\n",
    "\n",
    "Keyword args:\n",
    "- `stat`: OnlineStat used to summarize the `y` over a section of `x`\n",
    "    - Default: `Extrema(Type_of_Y)`\n",
    "- `nparts`: Number of parts to group `x` into\n",
    "    - Default: `100`"
   ]
  },
  {
   "cell_type": "code",
   "execution_count": null,
   "metadata": {},
   "outputs": [],
   "source": [
    "# diamonds = loadtable(\"datasets/diamonds.csv\"; indexcols = [:carat])\n",
    "diamonds = loadndsparse(\"datasets/diamonds.csv\"; indexcols = [:carat])"
   ]
  },
  {
   "cell_type": "markdown",
   "metadata": {},
   "source": [
    "### If only one selection is provided, the x axis is \"Number of Observations\""
   ]
  },
  {
   "cell_type": "code",
   "execution_count": null,
   "metadata": {
    "scrolled": false
   },
   "outputs": [],
   "source": [
    "partitionplot(diamonds, :price)"
   ]
  },
  {
   "cell_type": "markdown",
   "metadata": {},
   "source": [
    "### If two selections are provided (X and Y)\n",
    "\n",
    "- X will be adaptively grouped together\n",
    "- The `stat` of Y will be plotted over each group of X"
   ]
  },
  {
   "cell_type": "code",
   "execution_count": null,
   "metadata": {},
   "outputs": [],
   "source": [
    "partitionplot(diamonds, :carat, :price; stat=Hist(10), color=:blues, nparts=20)"
   ]
  },
  {
   "cell_type": "code",
   "execution_count": null,
   "metadata": {},
   "outputs": [],
   "source": [
    "partitionplot(diamonds, :carat, :depth, stat=Hist(20), nparts=15, color=:blues)"
   ]
  },
  {
   "cell_type": "code",
   "execution_count": null,
   "metadata": {},
   "outputs": [],
   "source": [
    "partitionplot(diamonds, :cut, :color, stat=CountMap(String))"
   ]
  },
  {
   "cell_type": "code",
   "execution_count": null,
   "metadata": {
    "scrolled": false
   },
   "outputs": [],
   "source": [
    "partitionplot(diamonds, :carat, :price, by=:cut, stat=Extrema(), nparts=50,\n",
    "    layout=(5,1), link = :all, size=(600,600))"
   ]
  },
  {
   "cell_type": "markdown",
   "metadata": {},
   "source": [
    "# Missing Data\n",
    "\n",
    "<div class=\"alert alert-warning\">\n",
    "<strong>Warning!</strong>  <code>partitionplot</code> automatically skips missing values!\n",
    "</div>"
   ]
  },
  {
   "cell_type": "code",
   "execution_count": null,
   "metadata": {
    "scrolled": false
   },
   "outputs": [],
   "source": [
    "using DataValues\n",
    "t = table(DataValueArray(randn(10^6), rand(Bool, 10^6)), randn(10^6))"
   ]
  },
  {
   "cell_type": "code",
   "execution_count": null,
   "metadata": {},
   "outputs": [],
   "source": [
    "partitionplot(t, 1, 2, stat = Hist(-5:.1:5), color = :viridis)"
   ]
  },
  {
   "cell_type": "markdown",
   "metadata": {},
   "source": [
    "# Mosaic Plot"
   ]
  },
  {
   "cell_type": "code",
   "execution_count": null,
   "metadata": {},
   "outputs": [],
   "source": [
    "plot(reduce(Mosaic(String,String), diamonds, select = (:cut, :color)))"
   ]
  },
  {
   "cell_type": "markdown",
   "metadata": {},
   "source": [
    "# PlotNN (plot a numerical X vs. numerical Y)\n",
    "\n",
    "```\n",
    "PlotNN(nbins)\n",
    "```\n",
    "\n",
    "- Approximate scatterplot \n",
    "\n",
    "<div class=\"alert alert-warning\">\n",
    "<strong>Warning!</strong>  The current implementation is quite slow!  <code>partitionplot</code> with <code>stat=Hist(...)</code> is a better option.\n",
    "</div>"
   ]
  },
  {
   "cell_type": "code",
   "execution_count": null,
   "metadata": {},
   "outputs": [],
   "source": [
    "plot(reduce(PlotNN(100), diamonds, select = (:carat, :price)))"
   ]
  }
 ],
 "metadata": {
  "kernelspec": {
   "display_name": "Julia 0.6.3",
   "language": "julia",
   "name": "julia-0.6"
  },
  "language_info": {
   "file_extension": ".jl",
   "mimetype": "application/julia",
   "name": "julia",
   "version": "0.6.3"
  }
 },
 "nbformat": 4,
 "nbformat_minor": 2
}
