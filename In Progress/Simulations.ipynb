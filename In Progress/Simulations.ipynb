{
 "cells": [
  {
   "cell_type": "code",
   "execution_count": 16,
   "metadata": {},
   "outputs": [
    {
     "data": {
      "text/plain": [
       "Plots.GRBackend()"
      ]
     },
     "execution_count": 16,
     "metadata": {},
     "output_type": "execute_result"
    }
   ],
   "source": [
    "using OnlineStats, StatsBase, MLDataPattern, ProgressMeter, Plots\n",
    "gr(size = (600, 400), fmt = :png)"
   ]
  },
  {
   "cell_type": "code",
   "execution_count": 2,
   "metadata": {},
   "outputs": [],
   "source": [
    "struct TraceBounds\n",
    "    low::Vector\n",
    "    mid::Vector\n",
    "    high::Vector\n",
    "    label::String\n",
    "    function TraceBounds(l, m, h, label)\n",
    "        new(l, m, h, label)\n",
    "    end\n",
    "end"
   ]
  },
  {
   "cell_type": "code",
   "execution_count": 3,
   "metadata": {},
   "outputs": [],
   "source": [
    "@recipe function f(o::TraceBounds)\n",
    "    ribbon --> (o.low, o.high)  # relative to o.mid\n",
    "    fillalpha --> .1\n",
    "    label --> o.label\n",
    "    o.mid\n",
    "end"
   ]
  },
  {
   "cell_type": "code",
   "execution_count": 4,
   "metadata": {},
   "outputs": [
    {
     "ename": "LoadError",
     "evalue": "\u001b[91msyntax: \"\\\" is not a unary operator\u001b[39m",
     "output_type": "error",
     "traceback": [
      "\u001b[91msyntax: \"\\\" is not a unary operator\u001b[39m",
      "",
      "Stacktrace:",
      " [1] \u001b[1minclude_string\u001b[22m\u001b[22m\u001b[1m(\u001b[22m\u001b[22m::String, ::String\u001b[1m)\u001b[22m\u001b[22m at \u001b[1m./loading.jl:522\u001b[22m\u001b[22m"
     ]
    }
   ],
   "source": [
    "function run_sim(x, y, loss, penalty, algorithm, rate, nreps=100)\n",
    "    out = zeros(size(x, 1), nreps)\n",
    "    @showprogress for rep in 1:nreps\n",
    "        x2, y2 = shuffleobs((x, y), obsdim=1)\n",
    "        o = StatLearn(size(x, 2), loss, penalty, algorithm, rate)\n",
    "        for (i, ob) in enumerate(zip(eachrow(x2), y2))\n",
    "            fit!(o, ob)\n",
    "            out[i, rep] = OnlineStats.objective(o, x, y)\n",
    "        end\n",
    "    end\n",
    "    mid = mapslices(median, out, 2)\n",
    "    low = mapslices(x -> quantile(x, .05), out, 2)\n",
    "    high = mapslices(x -> quantile(x, .95), out, 2)\n",
    "    plot(TraceBounds(vec(mid - low), vec(mid), vec(high - mid), string(rate)))\n",
    "end\n",
    "\n",
    "function compare_sim(x, y, loss, penalty, alg, rates, nreps=100; kw...)\n",
    "    p = plot(run_sim(x,y,loss,penalty,alg,rates[1],nreps); \n",
    "        title = string(alg), kw...)\n",
    "    for i in 2:length(rates)\n",
    "        plot!(p,run_sim(x, y, loss, penalty, alg, rates[i], nreps))\n",
    "    end\n",
    "    p\n",
    "end"
   ]
  },
  {
   "cell_type": "markdown",
   "metadata": {},
   "source": [
    "# Million Song Dataset"
   ]
  },
  {
   "cell_type": "code",
   "execution_count": 17,
   "metadata": {},
   "outputs": [
    {
     "data": {
      "text/plain": [
       "(515345, 91)"
      ]
     },
     "execution_count": 17,
     "metadata": {},
     "output_type": "execute_result"
    }
   ],
   "source": [
    "x = readcsv(\"YearPredictionMSD.txt\")\n",
    "y = x[:, 1]\n",
    "x[:, 1] = 1.0\n",
    "z = zscore(x, 1)\n",
    "n, p = size(x)"
   ]
  },
  {
   "cell_type": "code",
   "execution_count": 26,
   "metadata": {},
   "outputs": [
    {
     "name": "stdout",
     "output_type": "stream",
     "text": [
      "  3.459677 seconds (530.11 k allocations: 16.564 MiB)\n"
     ]
    },
    {
     "data": {
      "text/plain": [
       "LinReg: n=515345 | value=[1998.4, 5.31165, -2.90537, -1.53944, 0.0547346, -0.337125, -2.82963, -0.0982026, -0.803531, -0.745805  …  -0.026573, -0.097789, 0.167741, 0.0947171, 0.422414, 0.012291, 0.202668, -0.416373, -0.256174, -0.0356841]"
      ]
     },
     "execution_count": 26,
     "metadata": {},
     "output_type": "execute_result"
    }
   ],
   "source": [
    "@time o = fit!(LinReg(), (z,y))"
   ]
  },
  {
   "cell_type": "code",
   "execution_count": 28,
   "metadata": {},
   "outputs": [
    {
     "data": {
      "text/plain": [
       "515345-element Array{Float64,1}:\n",
       "  3385.42\n",
       "  4698.12\n",
       "  3142.09\n",
       "  4564.56\n",
       "  3449.68\n",
       "  3576.75\n",
       "  4595.38\n",
       "  4220.65\n",
       "  3368.89\n",
       "  5570.32\n",
       "  6171.21\n",
       "  4001.18\n",
       "  7654.67\n",
       "     ⋮   \n",
       "  5472.9 \n",
       "  3466.08\n",
       " 11376.0 \n",
       "  3420.91\n",
       "  7351.56\n",
       "  6342.17\n",
       "  3555.33\n",
       "  3846.3 \n",
       "  3394.25\n",
       "  3120.71\n",
       "  5185.15\n",
       "  3307.85"
      ]
     },
     "execution_count": 28,
     "metadata": {},
     "output_type": "execute_result"
    }
   ],
   "source": [
    "yhat = predict(o, x)"
   ]
  },
  {
   "cell_type": "code",
   "execution_count": 7,
   "metadata": {},
   "outputs": [
    {
     "ename": "LoadError",
     "evalue": "\u001b[91mUndefVarError: compare_sim not defined\u001b[39m",
     "output_type": "error",
     "traceback": [
      "\u001b[91mUndefVarError: compare_sim not defined\u001b[39m",
      "",
      "Stacktrace:",
      " [1] \u001b[1minclude_string\u001b[22m\u001b[22m\u001b[1m(\u001b[22m\u001b[22m::String, ::String\u001b[1m)\u001b[22m\u001b[22m at \u001b[1m./loading.jl:522\u001b[22m\u001b[22m"
     ]
    }
   ],
   "source": [
    "# n, p = 1000, 5\n",
    "# x = randn(n, p)\n",
    "# y = x * linspace(-1, 1, p) + randn(n)\n",
    "\n",
    "\n",
    "# l = .5L2DistLoss()\n",
    "# p = NoPenalty()\n",
    "# lrs = LearningRate.(.5:.2:.9)\n",
    "\n",
    "# plot(\n",
    "#     compare_sim(x, y, l, p, SGD(),     lrs),\n",
    "#     compare_sim(x, y, l, p, ADAGRAD(), lrs),\n",
    "#     compare_sim(x, y, l, p, RMSPROP(), lrs),\n",
    "#     compare_sim(x, y, l, p, ADAM(),    lrs),\n",
    "#     compare_sim(x, y, l, p, ADAMAX(),  lrs),\n",
    "#     compare_sim(x, y, l, p, MSPI(),    lrs);\n",
    "#     ylim = (0, 1.5), legend=false\n",
    "# )\n",
    "    "
   ]
  }
 ],
 "metadata": {
  "kernelspec": {
   "display_name": "Julia 0.6.2-pre",
   "language": "julia",
   "name": "julia-0.6"
  },
  "language_info": {
   "file_extension": ".jl",
   "mimetype": "application/julia",
   "name": "julia",
   "version": "0.6.2"
  }
 },
 "nbformat": 4,
 "nbformat_minor": 2
}
