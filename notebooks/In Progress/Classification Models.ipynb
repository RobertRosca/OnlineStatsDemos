{
 "cells": [
  {
   "cell_type": "markdown",
   "metadata": {},
   "source": [
    "# Classification Models\n",
    "\n",
    "OnlineStats can fit a variety of models for classification, including but not limited to\n",
    "\n",
    "- Naive Bayes Classifiers (`NBClassifier`)\n",
    "- Logistic Regression and SVMs (`StatLearn`)\n",
    "- Decision Trees (`FastTree` and `NBTree`)\n",
    "- Random Forests (`FastForest`)"
   ]
  },
  {
   "cell_type": "code",
   "execution_count": 1,
   "metadata": {
    "scrolled": false
   },
   "outputs": [
    {
     "name": "stderr",
     "output_type": "stream",
     "text": [
      "\u001b[1m\u001b[36mINFO: \u001b[39m\u001b[22m\u001b[36mRecompiling stale cache file /Users/joshday/.julia/lib/v0.6/OnlineStats.ji for module OnlineStats.\n",
      "\u001b[39m\u001b[1m\u001b[36mINFO: \u001b[39m\u001b[22m\u001b[36mRecompiling stale cache file /Users/joshday/.julia/lib/v0.6/IndexedTables.ji for module IndexedTables.\n",
      "\u001b[39m\u001b[1m\u001b[36mINFO: \u001b[39m\u001b[22m\u001b[36mRecompiling stale cache file /Users/joshday/.julia/lib/v0.6/JuliaDB.ji for module JuliaDB.\n",
      "\u001b[39m"
     ]
    }
   ],
   "source": [
    "using OnlineStats, JuliaDB"
   ]
  },
  {
   "cell_type": "code",
   "execution_count": 2,
   "metadata": {},
   "outputs": [
    {
     "data": {
      "text/plain": [
       "Table with 53940 rows, 10 columns:\n",
       "\u001b[1mcarat  \u001b[22mcut          color  clarity  depth  table  price  x      y      z\n",
       "───────────────────────────────────────────────────────────────────────────\n",
       "0.2    \"Premium\"    \"E\"    \"SI2\"    60.2   62.0   345    3.79   3.75   2.27\n",
       "0.2    \"Premium\"    \"E\"    \"VS2\"    59.8   62.0   367    3.79   3.77   2.26\n",
       "0.2    \"Premium\"    \"E\"    \"VS2\"    59.0   60.0   367    3.81   3.78   2.24\n",
       "0.2    \"Premium\"    \"E\"    \"VS2\"    61.1   59.0   367    3.81   3.78   2.32\n",
       "0.2    \"Premium\"    \"E\"    \"VS2\"    59.7   62.0   367    3.84   3.8    2.28\n",
       "0.2    \"Ideal\"      \"E\"    \"VS2\"    59.7   55.0   367    3.86   3.84   2.3\n",
       "0.2    \"Premium\"    \"F\"    \"VS2\"    62.6   59.0   367    3.73   3.71   2.33\n",
       "0.2    \"Ideal\"      \"D\"    \"VS2\"    61.5   57.0   367    3.81   3.77   2.33\n",
       "0.2    \"Very Good\"  \"E\"    \"VS2\"    63.4   59.0   367    3.74   3.71   2.36\n",
       "0.2    \"Ideal\"      \"E\"    \"VS2\"    62.2   57.0   367    3.76   3.73   2.33\n",
       "0.2    \"Premium\"    \"D\"    \"VS2\"    62.3   60.0   367    3.73   3.68   2.31\n",
       "0.2    \"Premium\"    \"D\"    \"VS2\"    61.7   60.0   367    3.77   3.72   2.31\n",
       "⋮\n",
       "3.4    \"Fair\"       \"D\"    \"I1\"     66.8   52.0   15964  9.42   9.34   6.27\n",
       "3.5    \"Ideal\"      \"H\"    \"I1\"     62.8   57.0   12587  9.65   9.59   6.03\n",
       "3.51   \"Premium\"    \"J\"    \"VS2\"    62.5   59.0   18701  9.66   9.63   6.03\n",
       "3.65   \"Fair\"       \"H\"    \"I1\"     67.1   53.0   11668  9.53   9.48   6.38\n",
       "3.67   \"Premium\"    \"I\"    \"I1\"     62.4   56.0   16193  9.86   9.81   6.13\n",
       "4.0    \"Very Good\"  \"I\"    \"I1\"     63.3   58.0   15984  10.01  9.94   6.31\n",
       "4.01   \"Premium\"    \"I\"    \"I1\"     61.0   61.0   15223  10.14  10.1   6.17\n",
       "4.01   \"Premium\"    \"J\"    \"I1\"     62.5   62.0   15223  10.02  9.94   6.24\n",
       "4.13   \"Fair\"       \"H\"    \"I1\"     64.8   61.0   17329  10.0   9.85   6.43\n",
       "4.5    \"Fair\"       \"J\"    \"I1\"     65.8   58.0   18531  10.23  10.16  6.72\n",
       "5.01   \"Fair\"       \"J\"    \"I1\"     65.5   59.0   18018  10.74  10.54  6.98"
      ]
     },
     "execution_count": 2,
     "metadata": {},
     "output_type": "execute_result"
    }
   ],
   "source": [
    "t = loadtable(\"diamonds.csv\"; indexcols = [:carat])"
   ]
  },
  {
   "cell_type": "markdown",
   "metadata": {},
   "source": [
    "# `NBClassifier`\n",
    "\n",
    "A naive Bayes classifier uses conditional distributions to estimate the probability of each class, given the values of the predictor variables.  The \"naive\" part is the assumption that predictor variables are independent.  `NBClassifier` is cheap to run and serves as a good baseline model.\n",
    "\n",
    "Since **OnlineStats** updates the model one observation at a time, it must keep summaries of the data in order to estimate the PDF (probability density function) and CDF (cumulative density function) of each predictor.\n",
    "\n",
    "- For continuous predictors, summaries can be either\n",
    "  1. `Hist(nbins)`: Discretize the distribution into `nbins` locations\n",
    "  2. `FitNormal()`: assume the data is normally distributed\n",
    "- For categorical predictors, the summary should be `CountMap(data_type)`\n",
    "\n",
    "For the Diamonds data, we'll use all three of the possible summarizers, applying `CountMap(String)` to the `String` columns and `Hist(20)` or `FitNormal()` to the `Float64` columns."
   ]
  },
  {
   "cell_type": "code",
   "execution_count": 11,
   "metadata": {},
   "outputs": [
    {
     "name": "stdout",
     "output_type": "stream",
     "text": [
      "  0.062384 seconds (1.58 M allocations: 28.346 MiB, 6.60% gc time)\n"
     ]
    },
    {
     "data": {
      "text/plain": [
       "\u001b[32m▦ Series{(1, 0)}\u001b[39m\n",
       "│\u001b[32m EqualWeight | nobs=53940\u001b[39m\n",
       "└── NBClassifier{String,Group{Tuple{Hist{0,AdaptiveBins{Float64}},CountMap{String},CountMap{String},Hist{0,AdaptiveBins{Float64}},Hist{0,AdaptiveBins{Float64}},Hist{0,AdaptiveBins{Float64}},FitNormal,FitNormal,FitNormal}}}\n",
       "    > Fair (0.0298)\n",
       "    > Good (0.091)\n",
       "    > Ideal (0.3995)\n",
       "    > Premium (0.2557)\n",
       "    > Very Good (0.224)"
      ]
     },
     "execution_count": 11,
     "metadata": {},
     "output_type": "execute_result"
    }
   ],
   "source": [
    "g = Group(\n",
    "    Hist(20),          # :carat\n",
    "    CountMap(String),  # :color\n",
    "    CountMap(String),  # :clarity\n",
    "    Hist(20),          # :depth\n",
    "    Hist(20),          # :table\n",
    "    Hist(20),          # :price\n",
    "    FitNormal(),       # :x\n",
    "    FitNormal(),       # :y\n",
    "    FitNormal()        # :z\n",
    ")\n",
    "\n",
    "@time s = reduce(NBClassifier(String, g), t, select = (Not(:cut), :cut))"
   ]
  },
  {
   "cell_type": "code",
   "execution_count": 7,
   "metadata": {
    "scrolled": false
   },
   "outputs": [
    {
     "data": {
      "text/plain": [
       "0.5826103077493512"
      ]
     },
     "execution_count": 7,
     "metadata": {},
     "output_type": "execute_result"
    }
   ],
   "source": [
    "yhat = map(r -> classify(s.stats[1], r), t; select = Not(:cut))\n",
    "\n",
    "mean(yhat .== select(t, :cut))"
   ]
  }
 ],
 "metadata": {
  "kernelspec": {
   "display_name": "Julia 0.6.2-pre",
   "language": "julia",
   "name": "julia-0.6"
  },
  "language_info": {
   "file_extension": ".jl",
   "mimetype": "application/julia",
   "name": "julia",
   "version": "0.6.2"
  }
 },
 "nbformat": 4,
 "nbformat_minor": 2
}
