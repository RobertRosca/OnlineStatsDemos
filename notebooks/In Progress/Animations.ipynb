{
 "cells": [
  {
   "cell_type": "code",
   "execution_count": 1,
   "metadata": {},
   "outputs": [
    {
     "data": {
      "text/plain": [
       "Plots.GRBackend()"
      ]
     },
     "execution_count": 1,
     "metadata": {},
     "output_type": "execute_result"
    }
   ],
   "source": [
    "using OnlineStats, Plots\n",
    "gr(size = (600, 400))"
   ]
  },
  {
   "cell_type": "markdown",
   "metadata": {},
   "source": [
    "# README Animation"
   ]
  },
  {
   "cell_type": "code",
   "execution_count": 2,
   "metadata": {},
   "outputs": [
    {
     "data": {
      "text/plain": [
       "Plots.Animation(\"/var/folders/9g/qxb4_bxn12j553p0w7tnr4180000gn/T/tmp9esLNZ\", String[\"000001.png\", \"000002.png\", \"000003.png\", \"000004.png\", \"000005.png\", \"000006.png\", \"000007.png\", \"000008.png\", \"000009.png\", \"000010.png\"  …  \"000091.png\", \"000092.png\", \"000093.png\", \"000094.png\", \"000095.png\", \"000096.png\", \"000097.png\", \"000098.png\", \"000099.png\", \"000100.png\"])"
      ]
     },
     "execution_count": 2,
     "metadata": {},
     "output_type": "execute_result"
    }
   ],
   "source": [
    "srand(123)\n",
    "n = 100\n",
    "y = .5cumsum(rand(n)) + 3randn(n)\n",
    "\n",
    "o1 = Mean()\n",
    "o2 = Mean(weight = x -> .1)\n",
    "\n",
    "p = plot(zeros(0), zeros(0, 3), \n",
    "    seriestype = [:scatter :line :line], \n",
    "    w=3,\n",
    "    label = [\"Data\", \"Equally-Weighted\", \"Exponentially-Weighted\"],\n",
    "    grid=false, \n",
    "    legend = :topleft, \n",
    "    xlab = \"Number of Observations\",\n",
    "    title = \"Means\", \n",
    "    ylim = (-5, 30), \n",
    "    color = [:black :darkblue :darkred])\n",
    "\n",
    "a = @animate for yi in y\n",
    "    fit!(o1, yi)\n",
    "    fit!(o2, yi)\n",
    "    push!(p, nobs(o1), vcat(yi, value(o1), value(o2)))\n",
    "end"
   ]
  },
  {
   "cell_type": "code",
   "execution_count": 3,
   "metadata": {},
   "outputs": [
    {
     "name": "stderr",
     "output_type": "stream",
     "text": [
      "\u001b[1m\u001b[36mINFO: \u001b[39m\u001b[22m\u001b[36mSaved animation to /Users/joshday/Desktop/readme.gif\n",
      "\u001b[39m"
     ]
    },
    {
     "data": {
      "text/html": [
       "<img src=\"../../Desktop/readme.gif?0.19180648984611803>\" />"
      ],
      "text/plain": [
       "Plots.AnimatedGif(\"/Users/joshday/Desktop/readme.gif\")"
      ]
     },
     "execution_count": 3,
     "metadata": {},
     "output_type": "execute_result"
    }
   ],
   "source": [
    "gif(a, \"/Users/joshday/Desktop/readme.gif\", fps=30)"
   ]
  },
  {
   "cell_type": "markdown",
   "metadata": {},
   "source": [
    "# Partition"
   ]
  },
  {
   "cell_type": "code",
   "execution_count": 4,
   "metadata": {},
   "outputs": [
    {
     "data": {
      "text/plain": [
       "Plots.Animation(\"/var/folders/9g/qxb4_bxn12j553p0w7tnr4180000gn/T/tmpeLgFel\", String[\"000001.png\", \"000002.png\", \"000003.png\", \"000004.png\", \"000005.png\", \"000006.png\", \"000007.png\", \"000008.png\", \"000009.png\", \"000010.png\"  …  \"000291.png\", \"000292.png\", \"000293.png\", \"000294.png\", \"000295.png\", \"000296.png\", \"000297.png\", \"000298.png\", \"000299.png\", \"000300.png\"])"
      ]
     },
     "execution_count": 4,
     "metadata": {},
     "output_type": "execute_result"
    }
   ],
   "source": [
    "o = Partition(CountMap(Symbol), 10)\n",
    "y = rand([:a, :a, :b, :c], 300)\n",
    "\n",
    "anim = @animate for yi in y\n",
    "    fit!(o, yi)\n",
    "    plot(o)\n",
    "end"
   ]
  },
  {
   "cell_type": "code",
   "execution_count": 5,
   "metadata": {},
   "outputs": [
    {
     "name": "stderr",
     "output_type": "stream",
     "text": [
      "\u001b[1m\u001b[36mINFO: \u001b[39m\u001b[22m\u001b[36mSaved animation to /Users/joshday/Desktop/temp.gif\n",
      "\u001b[39m"
     ]
    },
    {
     "data": {
      "text/html": [
       "<img src=\"../../Desktop/temp.gif?0.8786615790572503>\" />"
      ],
      "text/plain": [
       "Plots.AnimatedGif(\"/Users/joshday/Desktop/temp.gif\")"
      ]
     },
     "execution_count": 5,
     "metadata": {},
     "output_type": "execute_result"
    }
   ],
   "source": [
    "gif(anim, \"/Users/joshday/Desktop/temp.gif\", fps=40)"
   ]
  }
 ],
 "metadata": {
  "kernelspec": {
   "display_name": "Julia 0.6.2-pre",
   "language": "julia",
   "name": "julia-0.6"
  },
  "language_info": {
   "file_extension": ".jl",
   "mimetype": "application/julia",
   "name": "julia",
   "version": "0.6.2"
  }
 },
 "nbformat": 4,
 "nbformat_minor": 2
}
