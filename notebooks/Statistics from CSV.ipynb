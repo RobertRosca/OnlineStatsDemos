{
 "cells": [
  {
   "cell_type": "markdown",
   "metadata": {},
   "source": [
    "# Statistics from CSV\n",
    "\n",
    "This is an example of calculating statistics on the columns of a ~55 Million row CSV file.\n",
    "\n",
    "https://www.kaggle.com/c/new-york-city-taxi-fare-prediction/overview"
   ]
  },
  {
   "cell_type": "code",
   "execution_count": null,
   "metadata": {},
   "outputs": [
    {
     "name": "stdout",
     "output_type": "stream",
     "text": [
      "length(file) = 55423856\n"
     ]
    },
    {
     "name": "stderr",
     "output_type": "stream",
     "text": [
      "\u001b[32mProgress:  45%|██████████████████▌                      |  ETA: 0:00:21\u001b[39m"
     ]
    }
   ],
   "source": [
    "using OnlineStats, CSV, Plots, ProgressMeter\n",
    "\n",
    "path = \"/Users/joshday/datasets/new-york-city-taxi-fare-prediction/train.csv\"\n",
    "\n",
    "file = CSV.File(path; allowmissing=:none)\n",
    "\n",
    "@show length(file)\n",
    "\n",
    "o = CountMap(Int)\n",
    "\n",
    "@showprogress for row in file\n",
    "    fit!(o, row.passenger_count)\n",
    "end\n",
    "\n",
    "plot(o)"
   ]
  }
 ],
 "metadata": {
  "kernelspec": {
   "display_name": "Julia 1.1.0",
   "language": "julia",
   "name": "julia-1.1"
  },
  "language_info": {
   "file_extension": ".jl",
   "mimetype": "application/julia",
   "name": "julia",
   "version": "1.1.0"
  }
 },
 "nbformat": 4,
 "nbformat_minor": 2
}
