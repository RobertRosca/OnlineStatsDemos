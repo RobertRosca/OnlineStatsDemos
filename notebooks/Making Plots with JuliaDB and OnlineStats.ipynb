{
 "cells": [
  {
   "cell_type": "markdown",
   "metadata": {},
   "source": [
    "# Making Plots with JuliaDB and OnlineStats\n",
    "\n",
    "Plotting in JuliaDB is achieved through [StatPlots.jl](https://github.com/JuliaPlots/StatPlots.jl) and recipes in [OnlineStats](https://github.com/joshday/OnlineStats.jl)."
   ]
  },
  {
   "cell_type": "code",
   "execution_count": null,
   "metadata": {},
   "outputs": [],
   "source": [
    "using Distributed\n",
    "\n",
    "addprocs()\n",
    "\n",
    "using JuliaDB, OnlineStats, StatsPlots\n",
    "\n",
    "gr()"
   ]
  },
  {
   "cell_type": "markdown",
   "metadata": {},
   "source": [
    "## Plotting with [StatPlots.jl](https://github.com/JuliaPlots/StatPlots.jl)\n",
    "\n",
    "All the power and flexibility of [Plots](https://github.com/JuliaPlots/Plots.jl) is made available to JuliaDB with StatPlots and the `@df` macro."
   ]
  },
  {
   "cell_type": "markdown",
   "metadata": {},
   "source": [
    "<div class=\"alert alert-warning\">\n",
    "<strong>Warning!</strong>  StatPlots will not work on distributed table/ndsparse objects.\n",
    "</div>"
   ]
  },
  {
   "cell_type": "code",
   "execution_count": null,
   "metadata": {},
   "outputs": [],
   "source": [
    "t = table((x = randn(100), y = randn(100)))\n",
    "\n",
    "@df t scatter(:x, :y)"
   ]
  },
  {
   "cell_type": "markdown",
   "metadata": {},
   "source": [
    "## Plotting Big Data with `partitionplot`\n",
    "\n",
    "\n",
    "Suppose we have a billion observations.  Visualizing a large amount of data is hard on \n",
    "\n",
    "1. Your GPU\n",
    "2. Your Brain\n",
    "\n",
    "The idea behind `partitionplot` is this:  Instead of plotting individual observations, observations on the x-axis are grouped together and a summary of the data is displayed on the y-axis.  We can then make an easier-to-create/easier-to-comprehend plot.\n",
    "\n",
    "```\n",
    "partitionplot(table, [x,] y; stat, nparts)\n",
    "```\n",
    "\n",
    "Keyword args:\n",
    "- `stat`: OnlineStat used to summarize the `y` over a section of `x`\n",
    "    - Default: `Extrema(Type_of_Y)`\n",
    "- `nparts`: Number of parts to group `x` into\n",
    "    - Default: `100`"
   ]
  },
  {
   "cell_type": "code",
   "execution_count": null,
   "metadata": {},
   "outputs": [],
   "source": [
    "using RDatasets, Tables\n",
    "\n",
    "diamonds = table(dataset(\"ggplot2\", \"diamonds\"), pkey=:Carat)"
   ]
  },
  {
   "cell_type": "markdown",
   "metadata": {},
   "source": [
    "### If only one selection is provided, the x axis is \"Number of Observations\""
   ]
  },
  {
   "cell_type": "code",
   "execution_count": null,
   "metadata": {
    "scrolled": false
   },
   "outputs": [],
   "source": [
    "partitionplot(diamonds, :Price)"
   ]
  },
  {
   "cell_type": "markdown",
   "metadata": {},
   "source": [
    "### If two selections are provided (X and Y)\n",
    "\n",
    "- X will be adaptively grouped together\n",
    "- The `stat` of Y will be plotted over each group of X"
   ]
  },
  {
   "cell_type": "code",
   "execution_count": null,
   "metadata": {},
   "outputs": [],
   "source": [
    "partitionplot(diamonds, :Carat, :Price; stat=KHist(10), color=:blues, nparts=20)"
   ]
  },
  {
   "cell_type": "code",
   "execution_count": null,
   "metadata": {},
   "outputs": [],
   "source": [
    "partitionplot(diamonds, :Carat, :Depth, stat=Hist(20), nparts=15, color=:blues)"
   ]
  },
  {
   "cell_type": "code",
   "execution_count": null,
   "metadata": {},
   "outputs": [],
   "source": [
    "partitionplot(diamonds, :Cut, :Color, stat=CountMap(String))"
   ]
  },
  {
   "cell_type": "code",
   "execution_count": null,
   "metadata": {
    "scrolled": false
   },
   "outputs": [],
   "source": [
    "partitionplot(diamonds, :Carat, :Price, by=:Cut, stat=Extrema(), nparts=50,\n",
    "    layout=(5,1), link = :all, size=(600,600))"
   ]
  },
  {
   "cell_type": "markdown",
   "metadata": {},
   "source": [
    "# Missing Data\n",
    "\n",
    "<div class=\"alert alert-warning\">\n",
    "<strong>Warning!</strong>  <code>partitionplot</code> automatically skips missing values!\n",
    "</div>"
   ]
  },
  {
   "cell_type": "code",
   "execution_count": null,
   "metadata": {
    "scrolled": false
   },
   "outputs": [],
   "source": [
    "using DataValues\n",
    "t = table(DataValueArray(randn(10^6), rand(Bool, 10^6)), randn(10^6))"
   ]
  },
  {
   "cell_type": "code",
   "execution_count": null,
   "metadata": {},
   "outputs": [],
   "source": [
    "partitionplot(t, 1, 2, stat = Hist(-5:.1:5), color = :viridis)"
   ]
  },
  {
   "cell_type": "markdown",
   "metadata": {},
   "source": [
    "# Mosaic Plot"
   ]
  },
  {
   "cell_type": "code",
   "execution_count": null,
   "metadata": {},
   "outputs": [],
   "source": [
    "plot(reduce(Mosaic(String,String), diamonds, select = (:cut, :color)))"
   ]
  },
  {
   "cell_type": "markdown",
   "metadata": {},
   "source": [
    "# PlotNN (plot a numerical X vs. numerical Y)\n",
    "\n",
    "```\n",
    "PlotNN(nbins)\n",
    "```\n",
    "\n",
    "- Approximate scatterplot \n",
    "\n",
    "<div class=\"alert alert-warning\">\n",
    "<strong>Warning!</strong>  The current implementation is quite slow!  <code>partitionplot</code> with <code>stat=Hist(...)</code> is a better option.\n",
    "</div>"
   ]
  },
  {
   "cell_type": "code",
   "execution_count": null,
   "metadata": {},
   "outputs": [],
   "source": [
    "plot(reduce(PlotNN(100), diamonds, select = (:carat, :price)))"
   ]
  }
 ],
 "metadata": {
  "@webio": {
   "lastCommId": null,
   "lastKernelId": null
  },
  "kernelspec": {
   "display_name": "Julia 1.2.0",
   "language": "julia",
   "name": "julia-1.2"
  },
  "language_info": {
   "file_extension": ".jl",
   "mimetype": "application/julia",
   "name": "julia",
   "version": "1.2.0"
  }
 },
 "nbformat": 4,
 "nbformat_minor": 2
}
